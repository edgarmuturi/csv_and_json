{
 "cells": [
  {
   "cell_type": "markdown",
   "metadata": {},
   "source": [
    "# **Introduction to Using CSV and JSON Files in Python**\n",
    "\n",
    "In this notebook, you will learn how to work with CSV and JSON files in Python. We will cover the basics of reading, writing, and manipulating data in these formats using Python's built-in modules."
   ]
  },
  {
   "cell_type": "markdown",
   "metadata": {},
   "source": [
    "## **1. Working with CSV Files**\n",
    "\n",
    "CSV (Comma-Separated Values) files are a common format for storing tabular data. Each line in a CSV file represents a row of data, and each value is separated by a comma."
   ]
  },
  {
   "cell_type": "markdown",
   "metadata": {},
   "source": [
    "### **1.1 Reading CSV Files**\n",
    "\n",
    "We can use Python's built-in `csv` module to read CSV files. Let's start by reading a simple CSV file."
   ]
  },
  {
   "cell_type": "code",
   "execution_count": 2,
   "metadata": {},
   "outputs": [
    {
     "name": "stdout",
     "output_type": "stream",
     "text": [
      "['Name', 'Age', 'Grade']\n",
      "['Alice', '14', 'A']\n",
      "['Bob', '15', 'B']\n",
      "['Charlie', '14', 'C']\n",
      "['David', '15', 'A']\n",
      "['Eva', '14', 'B']\n"
     ]
    }
   ],
   "source": [
    "import csv\n",
    "\n",
    "# Reading CSV file\n",
    "filename = 'students.csv'  # Replace with your file path \"C:/Users/.../students.csv\"\n",
    "with open(filename, newline='') as f: \n",
    "    reader = csv.reader(f)\n",
    "    for row in reader:\n",
    "        print(row)"
   ]
  },
  {
   "cell_type": "markdown",
   "id": "7b379d02",
   "metadata": {},
   "source": [
    "\n",
    "with open(filename, newline='') as f: \n",
    "- This line opens the file named students.csv so we can read it.\n",
    "- The with open(...) as f: ensures the file closes automatically after we're done.\n",
    "- newline='' prevents extra blank lines from appearing when reading the file.\n",
    "\n",
    "reader = csv.reader(f)\n",
    "- This converts the file into a format that Python can understand.\n",
    "- csv.reader(f) reads the file line by line and splits each line into a list of values."
   ]
  },
  {
   "cell_type": "markdown",
   "metadata": {},
   "source": [
    "### **1.2 Reading CSV Files into Dictionaries**\n",
    "\n",
    "We can also read CSV files into dictionaries using the `csv.DictReader` class. This allows us to access each row's data by column name."
   ]
  },
  {
   "cell_type": "code",
   "execution_count": null,
   "metadata": {},
   "outputs": [],
   "source": [
    "# Reading CSV file into dictionaries\n",
    "with open(filename, newline='') as f:\n",
    "    reader = csv.DictReader(f)\n",
    "    for row in reader:\n",
    "        print(row)"
   ]
  },
  {
   "cell_type": "markdown",
   "metadata": {},
   "source": [
    "### **1.3 Writing to CSV Files**\n",
    "\n",
    "We can write data to CSV files using the `csv.writer` class. Let's create a new CSV file and write some data to it."
   ]
  },
  {
   "cell_type": "code",
   "execution_count": 3,
   "metadata": {},
   "outputs": [],
   "source": [
    "# Writing data to CSV file\n",
    "output_filename = 'output.csv'  # Replace with your desired file path\n",
    "data = [\n",
    "    ['Name', 'Age', 'Grade'],  # Header\n",
    "    ['Susan', 14, 'A'],\n",
    "    ['Rodgers', 15, 'B'],\n",
    "    ['Charlie', 14, 'C'],\n",
    "    ['David', 15, 'A'],\n",
    "    ['Eva', 14, 'B']\n",
    "]\n",
    "\n",
    "with open(output_filename, 'w', newline='') as f:\n",
    "    writer = csv.writer(f)\n",
    "    writer.writerows(data)"
   ]
  },
  {
   "cell_type": "markdown",
   "metadata": {},
   "source": [
    "### **1.4 Writing Dictionaries to CSV Files**\n",
    "\n",
    "We can also write dictionaries to CSV files using the `csv.DictWriter` class. This allows us to write data with column names."
   ]
  },
  {
   "cell_type": "code",
   "execution_count": null,
   "metadata": {},
   "outputs": [],
   "source": [
    "# Writing dictionaries to CSV file\n",
    "output_dict_filename = 'output_students_dict.csv'  # Replace with your desired file path\n",
    "data_dict = [\n",
    "    {'Name': 'Alice', 'Age': 14, 'Grade': 'A'},\n",
    "    {'Name': 'Bob', 'Age': 15, 'Grade': 'B'},\n",
    "    {'Name': 'Charlie', 'Age': 14, 'Grade': 'C'},\n",
    "    {'Name': 'David', 'Age': 15, 'Grade': 'A'},\n",
    "    {'Name': 'Eva', 'Age': 14, 'Grade': 'B'}\n",
    "]\n",
    "\n",
    "with open(output_dict_filename, 'w', newline='') as f:\n",
    "    fieldnames = data_dict[0].keys()\n",
    "    writer = csv.DictWriter(f, fieldnames=fieldnames)\n",
    "    writer.writeheader()  # Write header\n",
    "    writer.writerows(data_dict)  # Write data rows"
   ]
  },
  {
   "cell_type": "markdown",
   "metadata": {},
   "source": [
    "## **2. Working with JSON Files**\n",
    "\n",
    "JSON (JavaScript Object Notation) is a lightweight data interchange format that is easy for humans to read and write, and easy for machines to parse and generate."
   ]
  },
  {
   "cell_type": "markdown",
   "metadata": {},
   "source": [
    "### **2.1 Reading JSON Files**\n",
    "\n",
    "We can use Python's built-in `json` module to read JSON files. Let's start by reading a simple JSON file."
   ]
  },
  {
   "cell_type": "code",
   "execution_count": 5,
   "metadata": {},
   "outputs": [
    {
     "name": "stdout",
     "output_type": "stream",
     "text": [
      "{'students': [{'Name': 'Susan', 'Age': 14, 'Grade': 'A'}, {'Name': 'Rodgers', 'Age': 15, 'Grade': 'B'}, {'Name': 'Charlie', 'Age': 14, 'Grade': 'C'}, {'Name': 'David', 'Age': 15, 'Grade': 'A'}, {'Name': 'Eva', 'Age': 14, 'Grade': 'B'}]}\n"
     ]
    }
   ],
   "source": [
    "import json\n",
    "\n",
    "# Reading JSON file\n",
    "json_filename = 'students.json'  # Replace with your file path\n",
    "with open(json_filename, 'r') as f:\n",
    "    data = json.load(f)\n",
    "    print(data)"
   ]
  },
  {
   "cell_type": "markdown",
   "metadata": {},
   "source": [
    "### **2.2 Writing to JSON Files**\n",
    "\n",
    "We can write data to JSON files using the `json.dump` function. Let's create a new JSON file and write some data to it."
   ]
  },
  {
   "cell_type": "code",
   "execution_count": null,
   "metadata": {},
   "outputs": [],
   "source": [
    "# Writing data to JSON file\n",
    "output_json_filename = 'output_students.json'  # Replace with your desired file path\n",
    "json_data = {\n",
    "    'students': [\n",
    "        {'Name': 'Alice', 'Age': 14, 'Grade': 'A'},\n",
    "        {'Name': 'Bob', 'Age': 15, 'Grade': 'B'},\n",
    "        {'Name': 'Charlie', 'Age': 14, 'Grade': 'C'},\n",
    "        {'Name': 'David', 'Age': 15, 'Grade': 'A'},\n",
    "        {'Name': 'Eva', 'Age': 14, 'Grade': 'B'}\n",
    "    ]\n",
    "}\n",
    "\n",
    "with open(output_json_filename, 'w') as f:\n",
    "    json.dump(json_data, f, indent=4)"
   ]
  },
  {
   "cell_type": "markdown",
   "metadata": {},
   "source": [
    "### **2.3 Manipulating JSON Data**\n",
    "\n",
    "We can manipulate JSON data just like we manipulate Python dictionaries. Let's demonstrate how to update and delete keys in a JSON object."
   ]
  },
  {
   "cell_type": "code",
   "execution_count": null,
   "metadata": {},
   "outputs": [],
   "source": [
    "# Updating JSON data\n",
    "json_data['students'][0]['Age'] = 15\n",
    "print('Updated JSON:', json_data)\n",
    "\n",
    "# Deleting a key from JSON data\n",
    "del json_data['students'][0]['Grade']\n",
    "print('JSON after deleting key:', json_data)"
   ]
  },
  {
   "cell_type": "markdown",
   "metadata": {},
   "source": [
    "## **3. Summary**\n",
    "- We learned how to read and write CSV files using Python's built-in `csv` module.\n",
    "- We explored how to read and write JSON files using Python's built-in `json` module.\n",
    "- We demonstrated different ways to manipulate CSV and JSON data.\n",
    "\n",
    "This notebook provides a solid foundation for working with CSV and JSON files in Python. As you become more comfortable with these concepts, you can explore more advanced data manipulation techniques and libraries like pandas."
   ]
  }
 ],
 "metadata": {
  "kernelspec": {
   "display_name": "Python 3",
   "language": "python",
   "name": "python3"
  },
  "language_info": {
   "codemirror_mode": {
    "name": "ipython",
    "version": 3
   },
   "file_extension": ".py",
   "mimetype": "text/x-python",
   "name": "python",
   "nbconvert_exporter": "python",
   "pygments_lexer": "ipython3",
   "version": "3.12.0"
  }
 },
 "nbformat": 4,
 "nbformat_minor": 5
}
